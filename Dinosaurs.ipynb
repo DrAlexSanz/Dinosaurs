{
  "nbformat": 4,
  "nbformat_minor": 0,
  "metadata": {
    "colab": {
      "name": "Dinosaurs.ipynb",
      "provenance": [],
      "collapsed_sections": [],
      "include_colab_link": true
    },
    "kernelspec": {
      "name": "python3",
      "display_name": "Python 3"
    },
    "accelerator": "GPU"
  },
  "cells": [
    {
      "cell_type": "markdown",
      "metadata": {
        "id": "view-in-github",
        "colab_type": "text"
      },
      "source": [
        "<a href=\"https://colab.research.google.com/github/DrAlexSanz/Dinosaurs/blob/master/Dinosaurs.ipynb\" target=\"_parent\"><img src=\"https://colab.research.google.com/assets/colab-badge.svg\" alt=\"Open In Colab\"/></a>"
      ]
    },
    {
      "cell_type": "code",
      "metadata": {
        "id": "8yL37UA-bjA_",
        "colab_type": "code",
        "colab": {
          "base_uri": "https://localhost:8080/",
          "height": 153
        },
        "outputId": "e3e4acb1-3428-4742-b8ed-615d00df1744"
      },
      "source": [
        "%cd \"/content\"\n",
        "!rm -rf Dinosaurs\n",
        "\n",
        "!git clone https://github.com/DrAlexSanz/Dinosaurs.git\n",
        "  \n",
        "%cd \"/content/Dinosaurs\""
      ],
      "execution_count": 1,
      "outputs": [
        {
          "output_type": "stream",
          "text": [
            "/content\n",
            "Cloning into 'Dinosaurs'...\n",
            "remote: Enumerating objects: 26, done.\u001b[K\n",
            "remote: Counting objects: 100% (26/26), done.\u001b[K\n",
            "remote: Compressing objects: 100% (24/24), done.\u001b[K\n",
            "remote: Total 26 (delta 8), reused 0 (delta 0), pack-reused 0\u001b[K\n",
            "Unpacking objects: 100% (26/26), done.\n",
            "/content/Dinosaurs\n"
          ],
          "name": "stdout"
        }
      ]
    },
    {
      "cell_type": "code",
      "metadata": {
        "id": "99hjcsNAbtRz",
        "colab_type": "code",
        "colab": {}
      },
      "source": [
        "import os\n",
        "import sys\n",
        "import scipy.io\n",
        "import scipy.misc\n",
        "import imageio\n",
        "import matplotlib.pyplot as plt\n",
        "from matplotlib.pyplot import imshow\n",
        "from PIL import Image\n",
        "import numpy as np\n",
        "import tensorflow as tf\n",
        "from utils import *\n"
      ],
      "execution_count": 0,
      "outputs": []
    },
    {
      "cell_type": "markdown",
      "metadata": {
        "id": "9jLkLpB9jibK",
        "colab_type": "text"
      },
      "source": [
        "Now let's open the dinosaurs file and get a dictionary to translate from character to dataset (the individual characters)."
      ]
    },
    {
      "cell_type": "code",
      "metadata": {
        "id": "MmBX9YoejtRv",
        "colab_type": "code",
        "colab": {
          "base_uri": "https://localhost:8080/",
          "height": 51
        },
        "outputId": "5564b6f1-76e6-45cb-c97a-cad4cc8ebccd"
      },
      "source": [
        "data = open(\"dinosaurs.txt\", \"r\").read()\n",
        "data = data.lower()\n",
        "chars = list(set(data))\n",
        "\n",
        "data_size = len(data)\n",
        "vocab_size = len(chars) #Careful, vocabulary is not words, it's a character- level model of language!!!\n",
        "\n",
        "print(\"The total length of the data (Number of characters) is: \" + str(data_size))\n",
        "print(\"The number of total unique characters is: \" + str(vocab_size))"
      ],
      "execution_count": 3,
      "outputs": [
        {
          "output_type": "stream",
          "text": [
            "The total length of the data (Number of characters) is: 19909\n",
            "The number of total unique characters is: 27\n"
          ],
          "name": "stdout"
        }
      ]
    },
    {
      "cell_type": "markdown",
      "metadata": {
        "id": "0qtdsjStl9Qs",
        "colab_type": "text"
      },
      "source": [
        "So the unique characters are lowercase a to z (26) plus the EOL character (\\n usually). Now I will map the vocabulary to a character. So I will get a dictionary that links: 0 to \\n, 1 to a, 2 to b, etc. I will also get the opposite one, it's cheap, at least in python and with this character set."
      ]
    },
    {
      "cell_type": "code",
      "metadata": {
        "id": "As4mawjooZEf",
        "colab_type": "code",
        "colab": {
          "base_uri": "https://localhost:8080/",
          "height": 71
        },
        "outputId": "ecd66c68-06ab-435c-9ec5-7eb99f956365"
      },
      "source": [
        "char_to_ix = {ch: i for i, ch in enumerate(sorted(chars))}\n",
        "ix_to_char = {i: ch for i, ch in enumerate(sorted(chars))}\n",
        "\n",
        "print(ix_to_char)\n",
        "print(char_to_ix)"
      ],
      "execution_count": 4,
      "outputs": [
        {
          "output_type": "stream",
          "text": [
            "{0: '\\n', 1: 'a', 2: 'b', 3: 'c', 4: 'd', 5: 'e', 6: 'f', 7: 'g', 8: 'h', 9: 'i', 10: 'j', 11: 'k', 12: 'l', 13: 'm', 14: 'n', 15: 'o', 16: 'p', 17: 'q', 18: 'r', 19: 's', 20: 't', 21: 'u', 22: 'v', 23: 'w', 24: 'x', 25: 'y', 26: 'z'}\n",
            "{'\\n': 0, 'a': 1, 'b': 2, 'c': 3, 'd': 4, 'e': 5, 'f': 6, 'g': 7, 'h': 8, 'i': 9, 'j': 10, 'k': 11, 'l': 12, 'm': 13, 'n': 14, 'o': 15, 'p': 16, 'q': 17, 'r': 18, 's': 19, 't': 20, 'u': 21, 'v': 22, 'w': 23, 'x': 24, 'y': 25, 'z': 26}\n"
          ],
          "name": "stdout"
        }
      ]
    },
    {
      "cell_type": "markdown",
      "metadata": {
        "id": "-VIIlXwUpSEw",
        "colab_type": "text"
      },
      "source": [
        "Now, this works. Now I have to implement my model. The model has the following parts.\n",
        "\n",
        "\n",
        "\n",
        "*   Initialize parameters.\n",
        "*   Forward pass.\n",
        "*   Backward pass, gradients of loss functions.\n",
        "*   Clip gradients to avoid explosions.\n",
        "*   Update gradients. Go back to forward pass.\n",
        "*   Return parameters.\n",
        "\n"
      ]
    },
    {
      "cell_type": "code",
      "metadata": {
        "id": "dEXWcyXAqRtv",
        "colab_type": "code",
        "colab": {}
      },
      "source": [
        "def Clip(gradients, MaxValue):\n",
        "    \"\"\"\n",
        "    This function gets a dictionary with the different gradients and limits the values to +/- MaxValue\n",
        "    \n",
        "    Inputs: gradients, dictionary with the gradients for this step.\n",
        "            MaxValue, A max value to limit the gradients\n",
        "            \n",
        "    Outputs: gradients, a dictionary with the clipped gradients.\n",
        "    \n",
        "    \"\"\"\n",
        "    # Get input gradients\n",
        "    \n",
        "    dWaa = gradients[\"dWaa\"]\n",
        "    dWax = gradients[\"dWax\"]\n",
        "    dWya = gradients[\"dWya\"]\n",
        "    db = gradients[\"db\"]\n",
        "    dby = gradients[\"dby\"]\n",
        "    \n",
        "    # Clip input gradients\n",
        "    \n",
        "    for gradient in [dWaa, dWax, dWya, db, dby]:\n",
        "        \n",
        "        np.clip(gradient, -MaxValue, MaxValue, out = gradient) #gradient is the index of the loop!!!\n",
        "    \n",
        "    gradients = {\"dWaa\": dWaa,\n",
        "                 \"dWax\": dWax,\n",
        "                 \"dWya\": dWya,\n",
        "                 \"db\": db,\n",
        "                 \"dby\": dby}\n",
        "    \n",
        "    return gradients"
      ],
      "execution_count": 0,
      "outputs": []
    },
    {
      "cell_type": "code",
      "metadata": {
        "id": "cGxC4CS2rufp",
        "colab_type": "code",
        "colab": {
          "base_uri": "https://localhost:8080/",
          "height": 102
        },
        "outputId": "934de3da-f651-4368-936d-959973b18836"
      },
      "source": [
        "np.random.seed(13)\n",
        "\n",
        "dWax = np.random.randn(5, 3) * 100\n",
        "dWaa = np.random.randn(5, 5) * 100\n",
        "dWya = np.random.randn(5, 2) * 100\n",
        "db = np.random.randn(5, 1) * 100\n",
        "dby = np.random.randn(5, 1) * 100\n",
        "\n",
        "gradients = {\"dWaa\": dWaa,\n",
        "                 \"dWax\": dWax,\n",
        "                 \"dWya\": dWya,\n",
        "                 \"db\": db,\n",
        "                 \"dby\": dby}\n",
        "\n",
        "MaxValue = 90\n",
        "\n",
        "gradients = Clip(gradients, MaxValue)\n",
        "\n",
        "print(\"dWaa[1][2] = \" + str(gradients[\"dWaa\"][1][2]))\n",
        "print(\"dWax[3][1] = \" + str(gradients[\"dWax\"][3][1]))\n",
        "print(\"dWya[1][2] = \" + str(gradients[\"dWya\"][0][1]))\n",
        "print(\"db[4] = \" + str(gradients[\"db\"][4]))\n",
        "print(\"dby[1] = \" + str(gradients[\"dby\"][1]))\n",
        "\n",
        "\n"
      ],
      "execution_count": 6,
      "outputs": [
        {
          "output_type": "stream",
          "text": [
            "dWaa[1][2] = 90.0\n",
            "dWax[3][1] = -78.89890249515489\n",
            "dWya[1][2] = 90.0\n",
            "db[4] = [90.]\n",
            "dby[1] = [-5.75323879]\n"
          ],
          "name": "stdout"
        }
      ]
    },
    {
      "cell_type": "markdown",
      "metadata": {
        "id": "gpYa6z2fxyoM",
        "colab_type": "text"
      },
      "source": [
        "Ok, now let's implement the character generation part of the model. The only way to generate some word is to sample characters from the vocabulary. Naïvely I could sample randomly, but that's not a great idea. It will look like polish or basque. Here is the workflow:\n",
        "\n",
        "* Pass to the network a dummy input with 0s. $x^{\\langle 1 \\rangle} = \\vec{0}$. Also set $a^{\\langle 0 \\rangle} = \\vec{0}$.\n",
        "* Run one step of forward propagation to get $a^{\\langle 1 \\rangle}$ and $\\hat{y}^{\\langle 1 \\rangle}$. Here are the equations:\n",
        "\n",
        "$$ a^{\\langle t+1 \\rangle} = \\tanh(W_{ax}  x^{\\langle t \\rangle } + W_{aa} a^{\\langle t \\rangle } + b)\\tag{1}$$$$ z^{\\langle t + 1 \\rangle } = W_{ya}  a^{\\langle t + 1 \\rangle } + b_y \\tag{2}$$$$ \\hat{y}^{\\langle t+1 \\rangle } = softmax(z^{\\langle t + 1 \\rangle })\\tag{3}$$\n",
        "\n",
        "Note that $\\hat{y}^{\\langle t+1 \\rangle }$ is a (softmax) probability vector (its entries are between 0 and 1 and sum to 1). $\\hat{y}^{\\langle t+1 \\rangle}_i$ represents the probability that the character indexed by \"i\" is the next character.\n",
        "\n",
        "* Carry out sampling: Pick the next character's index according to the probability distribution specified by $\\hat{y}^{\\langle t+1 \\rangle }$. This means that if $\\hat{y}^{\\langle t+1 \\rangle }_i = 0.16$ I will pick the index \"i\" with 16% probability.\n",
        "\n",
        "* Overwrite the variable x, which currently stores $x^{\\langle t \\rangle }$, with the value of $x^{\\langle t + 1 \\rangle }$. Represent $x^{\\langle t + 1 \\rangle }$ by creating a one-hot vector corresponding to the character chosen as a prediction. Then, forward propagate $x^{\\langle t + 1 \\rangle }$ in Step 1 and keep repeating the process until a \"\\n\" character appears, indicating the end of the dinosaur name.\n"
      ]
    },
    {
      "cell_type": "code",
      "metadata": {
        "id": "Ui3ACOoo3zg2",
        "colab_type": "code",
        "colab": {}
      },
      "source": [
        "def sample(params, char_to_ix, seed):\n",
        "    \"\"\"\n",
        "    This function gets the character set and samples to generate the next character. It does so according to the forward pass of the network.\n",
        "    \n",
        "    Inputs: Params. Python dictionary with the weights and biases.\n",
        "            char_to ix: Dictionary translating from character to index.\n",
        "            seed: In this case to make things random\n",
        "    \n",
        "    Outputs: indices: a list of the indices chosen. I will then pass it to the ix_to_char dictionary to get the characters (outside).\n",
        "    \n",
        "    \"\"\"\n",
        "    \n",
        "    # Get the parameters\n",
        "    \n",
        "    Waa = params[\"Waa\"]\n",
        "    Wax = params[\"Wax\"]\n",
        "    Wya = params[\"Wya\"]\n",
        "    b = params[\"b\"]\n",
        "    by = params[\"by\"]\n",
        "    \n",
        "    vocab_size = by.shape[0]\n",
        "    n_a = Waa.shape[1]\n",
        "    \n",
        "    # Initialize x as a one-hot vector (with 0's)\n",
        "    \n",
        "    x = np.zeros((vocab_size, 1))\n",
        "    a_prev = np.zeros((n_a, 1))\n",
        "    \n",
        "    # Create empty list of indices for appending the chosen ones\n",
        "    \n",
        "    indices = []\n",
        "    \n",
        "    # idx is to detect a EOL character, initialize as -1\n",
        "    \n",
        "    idx = -1\n",
        "    \n",
        "    # Now start with the mess\n",
        "    # Loop for a given number of timesteps. Each time, draw a character and append its index. The stop conditions are getting the EOL character or reaching 50 characters (too much).\n",
        "    \n",
        "    counter = 0\n",
        "    new_line = char_to_ix[\"\\n\"]\n",
        "    \n",
        "    while idx != new_line and counter < 50:\n",
        "        # Forward propagation like in eqs 1, 2, 3\n",
        "        \n",
        "        a = np.tanh(np.dot(Waa, a_prev) + np.dot(Wax, x) + b)\n",
        "        z = np.dot(Wya, a) + by\n",
        "        y = softmax(z)\n",
        "        \n",
        "        # For randomizing\n",
        "        np.random.seed(counter + seed)\n",
        "        \n",
        "        # Now I do the actual sampling, choose from the vocab according to the probabilities of the softmax\n",
        "        \n",
        "        idx = np.random.choice(list(range(vocab_size)), p = y.ravel())\n",
        "        \n",
        "        # Save the character in the list\n",
        "        indices.append(idx)\n",
        "        \n",
        "        # Remove the previous input and use the current character as input.\n",
        "        \n",
        "        x = np.zeros((vocab_size, 1))\n",
        "        x[idx] = 1 # Select the one-hot vector of the current character\n",
        "        \n",
        "        a_prev = a\n",
        "        \n",
        "        seed = seed + 1\n",
        "        counter = counter + 1\n",
        "        \n",
        "        if counter == 50:\n",
        "            indices.append(char_to_ix[\"\\n\"]) #Append the index!!!!\n",
        "        \n",
        "    return indices"
      ],
      "execution_count": 0,
      "outputs": []
    },
    {
      "cell_type": "code",
      "metadata": {
        "id": "-FY-xy2yAuT0",
        "colab_type": "code",
        "colab": {
          "base_uri": "https://localhost:8080/",
          "height": 71
        },
        "outputId": "aac2b8b7-f5da-472b-e861-1c7acd8e5fd6"
      },
      "source": [
        "np.random.seed(2)\n",
        "\n",
        "_, n_a = 20, 100\n",
        "\n",
        "Wax = np.random.randn(n_a, vocab_size)\n",
        "Waa = np.random.randn(n_a, n_a)\n",
        "Wya = np.random.randn(vocab_size, n_a)\n",
        "b = np.random.randn(n_a, 1)\n",
        "by = np.random.randn(vocab_size, 1)\n",
        "\n",
        "parameters = {\"Wax\": Wax,\n",
        "              \"Waa\": Waa,\n",
        "              \"Wya\": Wya,\n",
        "              \"b\": b,\n",
        "              \"by\": by}\n",
        "\n",
        "seed = 0\n",
        "\n",
        "indices = sample(parameters, char_to_ix, seed)\n",
        "\n",
        "print(\"List of sampled indices: \", indices)\n",
        "char_sampled = [ix_to_char[i] for i in indices]\n",
        "print(\"List of sampled characters: \", char_sampled)\n",
        "\n"
      ],
      "execution_count": 8,
      "outputs": [
        {
          "output_type": "stream",
          "text": [
            "List of sampled indices:  [12, 17, 24, 14, 13, 9, 10, 22, 24, 6, 13, 11, 12, 6, 21, 15, 21, 14, 3, 2, 1, 21, 18, 24, 7, 25, 6, 25, 18, 10, 16, 2, 3, 8, 15, 12, 11, 7, 1, 12, 10, 2, 7, 7, 11, 17, 24, 12, 13, 24, 0]\n",
            "List of sampled characters:  ['l', 'q', 'x', 'n', 'm', 'i', 'j', 'v', 'x', 'f', 'm', 'k', 'l', 'f', 'u', 'o', 'u', 'n', 'c', 'b', 'a', 'u', 'r', 'x', 'g', 'y', 'f', 'y', 'r', 'j', 'p', 'b', 'c', 'h', 'o', 'l', 'k', 'g', 'a', 'l', 'j', 'b', 'g', 'g', 'k', 'q', 'x', 'l', 'm', 'x', '\\n']\n"
          ],
          "name": "stdout"
        }
      ]
    },
    {
      "cell_type": "markdown",
      "metadata": {
        "id": "hPOh-j_hFjnq",
        "colab_type": "text"
      },
      "source": [
        "This is done. Now I will do the optimization. I have three functions that do the forward propagation, the backprop and the update of the gradients. Then I will run these functions several times to train the network."
      ]
    },
    {
      "cell_type": "code",
      "metadata": {
        "id": "5lU8-WN3GBPX",
        "colab_type": "code",
        "colab": {}
      },
      "source": [
        "def optimize(X, Y, a_prev, param, learning_rate):\n",
        "    \"\"\"\n",
        "    This function executes one step of the training process\n",
        "    \n",
        "    Input: X is the data. List of integers from char_to_ix.\n",
        "           Y is the same as X but shifted one position to the left.\n",
        "           a_prev is the previous hidden state\n",
        "           param, the W and b from before\n",
        "           Learning rate\n",
        "           \n",
        "    Output: Loss. Value of the loss (Cross- entropy)\n",
        "            gradients. Dictionary with the gradients.\n",
        "            a[len(X) - 1] is the last hidden state    \n",
        "    \n",
        "    \"\"\"\n",
        "    \n",
        "    # Forward propagation\n",
        "    \n",
        "    loss, cache = rnn_forward(X, Y, a_prev, param)\n",
        "    \n",
        "    # Backprop\n",
        "    \n",
        "    gradients, a = rnn_backward(X, Y, param, cache)\n",
        "    \n",
        "    # Clip gradients\n",
        "    \n",
        "    gradients = Clip(gradients, 15)\n",
        "    \n",
        "    # Update parameters\n",
        "    \n",
        "    param = update_parameters(param, gradients, learning_rate)\n",
        "    \n",
        "    return loss, gradients, a[len(X) - 1]"
      ],
      "execution_count": 0,
      "outputs": []
    },
    {
      "cell_type": "code",
      "metadata": {
        "id": "JCm0XJDPHqPq",
        "colab_type": "code",
        "colab": {
          "base_uri": "https://localhost:8080/",
          "height": 136
        },
        "outputId": "46760ba1-c67f-418a-f11a-ae69625bf7a3"
      },
      "source": [
        "np.random.seed(13)\n",
        "\n",
        "vocab_size, n_a = 27, 100 # With 27 instead of 71 it doesn't work because some dimensions problem. Let's leave it like this.\n",
        "a_prev = np.random.randn(n_a, 1)\n",
        "\n",
        "Wax = np.random.randn(n_a, vocab_size)\n",
        "Waa = np.random.randn(n_a, n_a)\n",
        "Wya = np.random.randn(vocab_size, n_a)\n",
        "b = np.random.randn(n_a, 1)\n",
        "by = np.random.randn(vocab_size, 1)\n",
        "\n",
        "parameters = {\"Wax\": Wax,\n",
        "              \"Waa\": Waa,\n",
        "              \"Wya\": Wya,\n",
        "              \"b\": b,\n",
        "              \"by\": by}\n",
        "\n",
        "X = [12, 3, 5, 11, 22, 3]\n",
        "Y = [4, 14, 11, 22, 25, 26]\n",
        "\n",
        "learning_rate = 1e-2\n",
        "\n",
        "loss, gradients, a_last = optimize(X, Y, a_prev, parameters, learning_rate)\n",
        "\n",
        "print(\"Loss = \", loss)\n",
        "print(\"gradients dWaa [1][2] = \", gradients[\"dWaa\"][1][2])\n",
        "print(\"Index of dWaa = \", np.argmax(gradients[\"dWaa\"]))\n",
        "print(\"gradients dWya [1][2] = \", gradients[\"dWya\"][1][2])\n",
        "print(\"gradients db[4] = \", gradients[\"db\"][4])\n",
        "print(\"gradients dby[1] = \", gradients[\"dby\"][1])\n",
        "print(\"a_last[4] = \", a_last[4])\n",
        "\n",
        "\n"
      ],
      "execution_count": 10,
      "outputs": [
        {
          "output_type": "stream",
          "text": [
            "Loss =  120.06006627450188\n",
            "gradients dWaa [1][2] =  0.08472364118042476\n",
            "Index of dWaa =  1\n",
            "gradients dWya [1][2] =  -0.023135020453847844\n",
            "gradients db[4] =  [0.25545944]\n",
            "gradients dby[1] =  [0.02314737]\n",
            "a_last[4] =  [-1.]\n"
          ],
          "name": "stdout"
        }
      ]
    },
    {
      "cell_type": "markdown",
      "metadata": {
        "id": "roO2qeOKLgah",
        "colab_type": "text"
      },
      "source": [
        "gradients[\"dWaa\"] is just a square matrix of n_a x n_a, that's why I can get argmax of dWaa bigger than 100"
      ]
    },
    {
      "cell_type": "code",
      "metadata": {
        "id": "Rt_CPKWyLMT8",
        "colab_type": "code",
        "colab": {
          "base_uri": "https://localhost:8080/",
          "height": 34
        },
        "outputId": "3f1b52f8-5d28-4f1f-c261-16010c95e177"
      },
      "source": [
        "gradients[\"dWaa\"].shape"
      ],
      "execution_count": 11,
      "outputs": [
        {
          "output_type": "execute_result",
          "data": {
            "text/plain": [
              "(100, 100)"
            ]
          },
          "metadata": {
            "tags": []
          },
          "execution_count": 11
        }
      ]
    },
    {
      "cell_type": "markdown",
      "metadata": {
        "id": "hBsC7jWPKwSU",
        "colab_type": "text"
      },
      "source": [
        "Now I can train the model."
      ]
    },
    {
      "cell_type": "code",
      "metadata": {
        "id": "8P3xH7VTMSKI",
        "colab_type": "code",
        "colab": {}
      },
      "source": [
        "def model(data, ix_to_char, char_to_ix, num_iterations, n_a, dino_names, vocab_size):\n",
        "    \"\"\"\n",
        "    This function trains my model and generates dinosaur names.\n",
        "    \n",
        "    Inputs: data is the dinosaur names I have. Text corpus.\n",
        "            ix_to_char and char_to_ix, the mappings.\n",
        "            num_iterations (stochastic gradient descent)\n",
        "            n_a is the number of units of the RNN\n",
        "            dino_names is the number of dinosaurs generated at the end (and every n iterations)\n",
        "            vocab_size is the number of unique characters\n",
        "            \n",
        "    Outputs: parameters learnt.  \n",
        "    \n",
        "    \"\"\"\n",
        "    \n",
        "    # First thing, as usual, get dimensions\n",
        "    n_x = vocab_size\n",
        "    n_y = vocab_size\n",
        "    \n",
        "    parameters = initialize_parameters(n_a, n_x, n_y)\n",
        "    \n",
        "    # Initialize loss. This is similar to getting a good conditioned matrix in Opera\n",
        "    \n",
        "    loss = get_initial_loss(vocab_size, dino_names)\n",
        "    \n",
        "    # Build a list of dinosaurs names. From the txt, create a list.\n",
        "    \n",
        "    with open(\"dinosaurs.txt\") as f:\n",
        "        examples = f.readlines()\n",
        "        examples = [x.lower().strip() for x in examples]\n",
        "        \n",
        "    # The names were sorted alphabetically, I want them shuffled for STOCHASTIC GD\n",
        "    \n",
        "    np.random.seed(0)\n",
        "    np.random.shuffle(examples)\n",
        "    \n",
        "    # Initialize the hidden state of my LSTM\n",
        "    \n",
        "    a_prev = np.zeros((n_a, 1))\n",
        "    learning_rate = 0.005\n",
        "    \n",
        "    # And now run the optimization loop\n",
        "    \n",
        "    for j in range(num_iterations):\n",
        "        \n",
        "        index = j % len(examples)\n",
        "        X = [None] + [char_to_ix[ch] for ch in examples[index]]\n",
        "        Y = X[1:] + [char_to_ix[\"\\n\"]]\n",
        "        \n",
        "        # Now do an optimization step\n",
        "        # forward -> backward -> Clip -> update\n",
        "        \n",
        "        curr_loss, gradients, a_prev = optimize(X, Y, a_prev, parameters, learning_rate)\n",
        "        \n",
        "        # Keep loss smooth\n",
        "        \n",
        "        loss = smooth(loss, curr_loss)\n",
        "        \n",
        "        # Checkpoint every 2000 iterations\n",
        "        \n",
        "        if j % 2000 == 0:\n",
        "            \n",
        "            print(\"Iteration \" + str(j) + \" Loss = \" + str(loss) + \"\\n\")\n",
        "            seed = 0\n",
        "            \n",
        "            for name in range(dino_names):\n",
        "                sampled_indices = sample(parameters, char_to_ix, seed)\n",
        "                print_sample(sampled_indices, ix_to_char)\n",
        "                seed = seed + 1\n",
        "#             print(\"\\n\")\n",
        "    \n",
        "    return parameters    "
      ],
      "execution_count": 0,
      "outputs": []
    },
    {
      "cell_type": "code",
      "metadata": {
        "id": "k9_b-9rHSZKj",
        "colab_type": "code",
        "colab": {
          "base_uri": "https://localhost:8080/",
          "height": 527
        },
        "outputId": "abe126c7-446b-41c1-9cf4-67dce3d0a1b9"
      },
      "source": [
        "num_iter = 560 # put 20000, 560 for speed\n",
        "dino_names = 7\n",
        "n_a = 50\n",
        "vocab_size = 27\n",
        "\n",
        "parameters = model(data, ix_to_char, char_to_ix, num_iter, n_a, dino_names, vocab_size)"
      ],
      "execution_count": 13,
      "outputs": [
        {
          "output_type": "stream",
          "text": [
            "Iteration 0 Loss = 23.087334887279074\n",
            "\n",
            "----\n",
            " nkzxwtdmfqoeyhsqwasjkjvu\n",
            " \n",
            "----\n",
            "----\n",
            " kneb\n",
            " \n",
            "----\n",
            "----\n",
            " kzxwtdmfqoeyhsqwasjkjvu\n",
            " \n",
            "----\n",
            "----\n",
            " neb\n",
            " \n",
            "----\n",
            "----\n",
            " zxwtdmfqoeyhsqwasjkjvu\n",
            " \n",
            "----\n",
            "----\n",
            " eb\n",
            " \n",
            "----\n",
            "----\n",
            " xwtdmfqoeyhsqwasjkjvu\n",
            " \n",
            "----\n"
          ],
          "name": "stdout"
        }
      ]
    },
    {
      "cell_type": "markdown",
      "metadata": {
        "id": "fJ3PfzHpZgyT",
        "colab_type": "text"
      },
      "source": [
        "Now let's do the shakespeare generator"
      ]
    },
    {
      "cell_type": "code",
      "metadata": {
        "id": "oe47wxLGZjqd",
        "colab_type": "code",
        "colab": {
          "base_uri": "https://localhost:8080/",
          "height": 479
        },
        "outputId": "1de98d7e-74bb-4e06-e002-3280f08aafcb"
      },
      "source": [
        "from __future__ import print_function\n",
        "from keras.callbacks import LambdaCallback\n",
        "from keras.models import Model, load_model, Sequential\n",
        "from keras.layers import Dense, Activation, Dropout, Input, Masking\n",
        "from keras.layers import LSTM\n",
        "from keras.utils.data_utils import get_file\n",
        "from keras.utils import plot_model\n",
        "from keras.preprocessing.sequence import pad_sequences\n",
        "from shakespeare_utils import *\n",
        "import sys\n",
        "import io"
      ],
      "execution_count": 14,
      "outputs": [
        {
          "output_type": "stream",
          "text": [
            "Using TensorFlow backend.\n"
          ],
          "name": "stderr"
        },
        {
          "output_type": "stream",
          "text": [
            "Loading text data...\n",
            "Creating training set...\n",
            "number of training examples: 31530\n",
            "Vectorizing training set...\n",
            "Loading model...\n",
            "WARNING:tensorflow:From /usr/local/lib/python3.6/dist-packages/keras/backend/tensorflow_backend.py:541: The name tf.placeholder is deprecated. Please use tf.compat.v1.placeholder instead.\n",
            "\n",
            "WARNING:tensorflow:From /usr/local/lib/python3.6/dist-packages/keras/backend/tensorflow_backend.py:66: The name tf.get_default_graph is deprecated. Please use tf.compat.v1.get_default_graph instead.\n",
            "\n",
            "WARNING:tensorflow:From /usr/local/lib/python3.6/dist-packages/keras/backend/tensorflow_backend.py:4432: The name tf.random_uniform is deprecated. Please use tf.random.uniform instead.\n",
            "\n",
            "WARNING:tensorflow:From /usr/local/lib/python3.6/dist-packages/keras/backend/tensorflow_backend.py:148: The name tf.placeholder_with_default is deprecated. Please use tf.compat.v1.placeholder_with_default instead.\n",
            "\n",
            "WARNING:tensorflow:From /usr/local/lib/python3.6/dist-packages/keras/backend/tensorflow_backend.py:3733: calling dropout (from tensorflow.python.ops.nn_ops) with keep_prob is deprecated and will be removed in a future version.\n",
            "Instructions for updating:\n",
            "Please use `rate` instead of `keep_prob`. Rate should be set to `rate = 1 - keep_prob`.\n",
            "WARNING:tensorflow:From /usr/local/lib/python3.6/dist-packages/keras/backend/tensorflow_backend.py:190: The name tf.get_default_session is deprecated. Please use tf.compat.v1.get_default_session instead.\n",
            "\n",
            "WARNING:tensorflow:From /usr/local/lib/python3.6/dist-packages/keras/optimizers.py:793: The name tf.train.Optimizer is deprecated. Please use tf.compat.v1.train.Optimizer instead.\n",
            "\n",
            "WARNING:tensorflow:From /usr/local/lib/python3.6/dist-packages/tensorflow/python/ops/math_grad.py:1250: add_dispatch_support.<locals>.wrapper (from tensorflow.python.ops.array_ops) is deprecated and will be removed in a future version.\n",
            "Instructions for updating:\n",
            "Use tf.where in 2.0, which has the same broadcast rule as np.where\n"
          ],
          "name": "stdout"
        },
        {
          "output_type": "stream",
          "text": [
            "/usr/local/lib/python3.6/dist-packages/keras/engine/saving.py:350: UserWarning: Error in loading the saved optimizer state. As a result, your model is starting with a freshly initialized optimizer.\n",
            "  warnings.warn('Error in loading the saved optimizer '\n"
          ],
          "name": "stderr"
        }
      ]
    },
    {
      "cell_type": "code",
      "metadata": {
        "id": "5PiJ53zKgQXj",
        "colab_type": "code",
        "colab": {
          "base_uri": "https://localhost:8080/",
          "height": 754
        },
        "outputId": "8ab739bc-6847-42e3-9708-16ed0a05adb3"
      },
      "source": [
        "plot_model(model, to_file = \"model.png\", show_shapes = True)"
      ],
      "execution_count": 15,
      "outputs": [
        {
          "output_type": "execute_result",
          "data": {
            "image/png": "[encoded data removed]",
            "text/plain": [
              "<IPython.core.display.Image object>"
            ]
          },
          "metadata": {
            "tags": []
          },
          "execution_count": 15
        }
      ]
    },
    {
      "cell_type": "markdown",
      "metadata": {
        "id": "EId4nLjxf__t",
        "colab_type": "text"
      },
      "source": [
        ""
      ]
    },
    {
      "cell_type": "code",
      "metadata": {
        "id": "tsIGhhlbbaFu",
        "colab_type": "code",
        "colab": {
          "base_uri": "https://localhost:8080/",
          "height": 343
        },
        "outputId": "22d350f7-087e-46a6-9050-d0a2a8540527"
      },
      "source": [
        "print_callback = LambdaCallback(on_epoch_end = on_epoch_end)\n",
        "model.fit(x, y, batch_size = 128, epochs = 1, callbacks = [print_callback])"
      ],
      "execution_count": 16,
      "outputs": [
        {
          "output_type": "error",
          "ename": "ValueError",
          "evalue": "ignored",
          "traceback": [
            "\u001b[0;31m---------------------------------------------------------------------------\u001b[0m",
            "\u001b[0;31mValueError\u001b[0m                                Traceback (most recent call last)",
            "\u001b[0;32m<ipython-input-16-961a066a0dd9>\u001b[0m in \u001b[0;36m<module>\u001b[0;34m()\u001b[0m\n\u001b[1;32m      1\u001b[0m \u001b[0mprint_callback\u001b[0m \u001b[0;34m=\u001b[0m \u001b[0mLambdaCallback\u001b[0m\u001b[0;34m(\u001b[0m\u001b[0mon_epoch_end\u001b[0m \u001b[0;34m=\u001b[0m \u001b[0mon_epoch_end\u001b[0m\u001b[0;34m)\u001b[0m\u001b[0;34m\u001b[0m\u001b[0;34m\u001b[0m\u001b[0m\n\u001b[0;32m----> 2\u001b[0;31m \u001b[0mmodel\u001b[0m\u001b[0;34m.\u001b[0m\u001b[0mfit\u001b[0m\u001b[0;34m(\u001b[0m\u001b[0mx\u001b[0m\u001b[0;34m,\u001b[0m \u001b[0my\u001b[0m\u001b[0;34m,\u001b[0m \u001b[0mbatch_size\u001b[0m \u001b[0;34m=\u001b[0m \u001b[0;36m128\u001b[0m\u001b[0;34m,\u001b[0m \u001b[0mepochs\u001b[0m \u001b[0;34m=\u001b[0m \u001b[0;36m1\u001b[0m\u001b[0;34m,\u001b[0m \u001b[0mcallbacks\u001b[0m \u001b[0;34m=\u001b[0m \u001b[0;34m[\u001b[0m\u001b[0mprint_callback\u001b[0m\u001b[0;34m]\u001b[0m\u001b[0;34m)\u001b[0m\u001b[0;34m\u001b[0m\u001b[0;34m\u001b[0m\u001b[0m\n\u001b[0m",
            "\u001b[0;32m/usr/local/lib/python3.6/dist-packages/keras/engine/training.py\u001b[0m in \u001b[0;36mfit\u001b[0;34m(self, x, y, batch_size, epochs, verbose, callbacks, validation_split, validation_data, shuffle, class_weight, sample_weight, initial_epoch, steps_per_epoch, validation_steps, validation_freq, max_queue_size, workers, use_multiprocessing, **kwargs)\u001b[0m\n\u001b[1;32m   1087\u001b[0m             \u001b[0msample_weight\u001b[0m\u001b[0;34m=\u001b[0m\u001b[0msample_weight\u001b[0m\u001b[0;34m,\u001b[0m\u001b[0;34m\u001b[0m\u001b[0;34m\u001b[0m\u001b[0m\n\u001b[1;32m   1088\u001b[0m             \u001b[0mclass_weight\u001b[0m\u001b[0;34m=\u001b[0m\u001b[0mclass_weight\u001b[0m\u001b[0;34m,\u001b[0m\u001b[0;34m\u001b[0m\u001b[0;34m\u001b[0m\u001b[0m\n\u001b[0;32m-> 1089\u001b[0;31m             batch_size=batch_size)\n\u001b[0m\u001b[1;32m   1090\u001b[0m \u001b[0;34m\u001b[0m\u001b[0m\n\u001b[1;32m   1091\u001b[0m         \u001b[0;31m# Prepare validation data.\u001b[0m\u001b[0;34m\u001b[0m\u001b[0;34m\u001b[0m\u001b[0;34m\u001b[0m\u001b[0m\n",
            "\u001b[0;32m/usr/local/lib/python3.6/dist-packages/keras/engine/training.py\u001b[0m in \u001b[0;36m_standardize_user_data\u001b[0;34m(self, x, y, sample_weight, class_weight, check_array_lengths, batch_size)\u001b[0m\n\u001b[1;32m    755\u001b[0m             \u001b[0mfeed_input_shapes\u001b[0m\u001b[0;34m,\u001b[0m\u001b[0;34m\u001b[0m\u001b[0;34m\u001b[0m\u001b[0m\n\u001b[1;32m    756\u001b[0m             \u001b[0mcheck_batch_axis\u001b[0m\u001b[0;34m=\u001b[0m\u001b[0;32mFalse\u001b[0m\u001b[0;34m,\u001b[0m  \u001b[0;31m# Don't enforce the batch size.\u001b[0m\u001b[0;34m\u001b[0m\u001b[0;34m\u001b[0m\u001b[0m\n\u001b[0;32m--> 757\u001b[0;31m             exception_prefix='input')\n\u001b[0m\u001b[1;32m    758\u001b[0m \u001b[0;34m\u001b[0m\u001b[0m\n\u001b[1;32m    759\u001b[0m         \u001b[0;32mif\u001b[0m \u001b[0my\u001b[0m \u001b[0;32mis\u001b[0m \u001b[0;32mnot\u001b[0m \u001b[0;32mNone\u001b[0m\u001b[0;34m:\u001b[0m\u001b[0;34m\u001b[0m\u001b[0;34m\u001b[0m\u001b[0m\n",
            "\u001b[0;32m/usr/local/lib/python3.6/dist-packages/keras/engine/training_utils.py\u001b[0m in \u001b[0;36mstandardize_input_data\u001b[0;34m(data, names, shapes, check_batch_axis, exception_prefix)\u001b[0m\n\u001b[1;32m    139\u001b[0m                             \u001b[0;34m': expected '\u001b[0m \u001b[0;34m+\u001b[0m \u001b[0mnames\u001b[0m\u001b[0;34m[\u001b[0m\u001b[0mi\u001b[0m\u001b[0;34m]\u001b[0m \u001b[0;34m+\u001b[0m \u001b[0;34m' to have shape '\u001b[0m \u001b[0;34m+\u001b[0m\u001b[0;34m\u001b[0m\u001b[0;34m\u001b[0m\u001b[0m\n\u001b[1;32m    140\u001b[0m                             \u001b[0mstr\u001b[0m\u001b[0;34m(\u001b[0m\u001b[0mshape\u001b[0m\u001b[0;34m)\u001b[0m \u001b[0;34m+\u001b[0m \u001b[0;34m' but got array with shape '\u001b[0m \u001b[0;34m+\u001b[0m\u001b[0;34m\u001b[0m\u001b[0;34m\u001b[0m\u001b[0m\n\u001b[0;32m--> 141\u001b[0;31m                             str(data_shape))\n\u001b[0m\u001b[1;32m    142\u001b[0m     \u001b[0;32mreturn\u001b[0m \u001b[0mdata\u001b[0m\u001b[0;34m\u001b[0m\u001b[0;34m\u001b[0m\u001b[0m\n\u001b[1;32m    143\u001b[0m \u001b[0;34m\u001b[0m\u001b[0m\n",
            "\u001b[0;31mValueError\u001b[0m: Error when checking input: expected input_3 to have shape (40, 38) but got array with shape (40, 48)"
          ]
        }
      ]
    }
  ]
}